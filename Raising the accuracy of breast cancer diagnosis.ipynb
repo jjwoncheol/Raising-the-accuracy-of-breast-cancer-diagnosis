{
 "cells": [
  {
   "cell_type": "markdown",
   "metadata": {},
   "source": [
    "# Setting"
   ]
  },
  {
   "cell_type": "code",
   "execution_count": 210,
   "metadata": {},
   "outputs": [],
   "source": [
    "import warnings\n",
    "warnings.filterwarnings(action='ignore')"
   ]
  },
  {
   "cell_type": "code",
   "execution_count": 273,
   "metadata": {},
   "outputs": [],
   "source": [
    "import numpy as np\n",
    "import pandas as pd\n",
    "import matplotlib.pyplot as plt\n",
    "import seaborn as sns\n",
    "import mglearn\n",
    "\n",
    "from sklearn.datasets import load_breast_cancer\n",
    "from sklearn.model_selection import train_test_split, KFold, cross_val_score, cross_val_predict\n",
    "from sklearn import metrics\n",
    "from sklearn.metrics import accuracy_score\n",
    "from sklearn.model_selection import GridSearchCV, StratifiedShuffleSplit\n",
    "from sklearn.preprocessing import MinMaxScaler\n",
    "\n",
    "from sklearn import svm\n",
    "from sklearn.linear_model import LogisticRegression\n",
    "from sklearn.ensemble import RandomForestClassifier,BaggingClassifier, AdaBoostClassifier\n",
    "from sklearn.neighbors import KNeighborsClassifier\n",
    "from sklearn.tree import DecisionTreeClassifier\n",
    "\n",
    "from sklearn.neural_network import MLPClassifier"
   ]
  },
  {
   "cell_type": "code",
   "execution_count": 2,
   "metadata": {
    "scrolled": false
   },
   "outputs": [
    {
     "name": "stdout",
     "output_type": "stream",
     "text": [
      ".. _breast_cancer_dataset:\n",
      "\n",
      "Breast cancer wisconsin (diagnostic) dataset\n",
      "--------------------------------------------\n",
      "\n",
      "**Data Set Characteristics:**\n",
      "\n",
      "    :Number of Instances: 569\n",
      "\n",
      "    :Number of Attributes: 30 numeric, predictive attributes and the class\n",
      "\n",
      "    :Attribute Information:\n",
      "        - radius (mean of distances from center to points on the perimeter)\n",
      "        - texture (standard deviation of gray-scale values)\n",
      "        - perimeter\n",
      "        - area\n",
      "        - smoothness (local variation in radius lengths)\n",
      "        - compactness (perimeter^2 / area - 1.0)\n",
      "        - concavity (severity of concave portions of the contour)\n",
      "        - concave points (number of concave portions of the contour)\n",
      "        - symmetry \n",
      "        - fractal dimension (\"coastline approximation\" - 1)\n",
      "\n",
      "        The mean, standard error, and \"worst\" or largest (mean of the three\n",
      "        largest values) of these features were computed for each image,\n",
      "        resulting in 30 features.  For instance, field 3 is Mean Radius, field\n",
      "        13 is Radius SE, field 23 is Worst Radius.\n",
      "\n",
      "        - class:\n",
      "                - WDBC-Malignant\n",
      "                - WDBC-Benign\n",
      "\n",
      "    :Summary Statistics:\n",
      "\n",
      "    ===================================== ====== ======\n",
      "                                           Min    Max\n",
      "    ===================================== ====== ======\n",
      "    radius (mean):                        6.981  28.11\n",
      "    texture (mean):                       9.71   39.28\n",
      "    perimeter (mean):                     43.79  188.5\n",
      "    area (mean):                          143.5  2501.0\n",
      "    smoothness (mean):                    0.053  0.163\n",
      "    compactness (mean):                   0.019  0.345\n",
      "    concavity (mean):                     0.0    0.427\n",
      "    concave points (mean):                0.0    0.201\n",
      "    symmetry (mean):                      0.106  0.304\n",
      "    fractal dimension (mean):             0.05   0.097\n",
      "    radius (standard error):              0.112  2.873\n",
      "    texture (standard error):             0.36   4.885\n",
      "    perimeter (standard error):           0.757  21.98\n",
      "    area (standard error):                6.802  542.2\n",
      "    smoothness (standard error):          0.002  0.031\n",
      "    compactness (standard error):         0.002  0.135\n",
      "    concavity (standard error):           0.0    0.396\n",
      "    concave points (standard error):      0.0    0.053\n",
      "    symmetry (standard error):            0.008  0.079\n",
      "    fractal dimension (standard error):   0.001  0.03\n",
      "    radius (worst):                       7.93   36.04\n",
      "    texture (worst):                      12.02  49.54\n",
      "    perimeter (worst):                    50.41  251.2\n",
      "    area (worst):                         185.2  4254.0\n",
      "    smoothness (worst):                   0.071  0.223\n",
      "    compactness (worst):                  0.027  1.058\n",
      "    concavity (worst):                    0.0    1.252\n",
      "    concave points (worst):               0.0    0.291\n",
      "    symmetry (worst):                     0.156  0.664\n",
      "    fractal dimension (worst):            0.055  0.208\n",
      "    ===================================== ====== ======\n",
      "\n",
      "    :Missing Attribute Values: None\n",
      "\n",
      "    :Class Distribution: 212 - Malignant, 357 - Benign\n",
      "\n",
      "    :Creator:  Dr. William H. Wolberg, W. Nick Street, Olvi L. Mangasarian\n",
      "\n",
      "    :Donor: Nick Street\n",
      "\n",
      "    :Date: November, 1995\n",
      "\n",
      "This is a copy of UCI ML Breast Cancer Wisconsin (Diagnostic) datasets.\n",
      "https://goo.gl/U2Uwz2\n",
      "\n",
      "Features are computed from a digitized image of a fine needle\n",
      "aspirate (FNA) of a breast mass.  They describe\n",
      "characteristics of the cell nuclei present in the image.\n",
      "\n",
      "Separating plane described above was obtained using\n",
      "Multisurface Method-Tree (MSM-T) [K. P. Bennett, \"Decision Tree\n",
      "Construction Via Linear Programming.\" Proceedings of the 4th\n",
      "Midwest Artificial Intelligence and Cognitive Science Society,\n",
      "pp. 97-101, 1992], a classification method which uses linear\n",
      "programming to construct a decision tree.  Relevant features\n",
      "were selected using an exhaustive search in the space of 1-4\n",
      "features and 1-3 separating planes.\n",
      "\n",
      "The actual linear program used to obtain the separating plane\n",
      "in the 3-dimensional space is that described in:\n",
      "[K. P. Bennett and O. L. Mangasarian: \"Robust Linear\n",
      "Programming Discrimination of Two Linearly Inseparable Sets\",\n",
      "Optimization Methods and Software 1, 1992, 23-34].\n",
      "\n",
      "This database is also available through the UW CS ftp server:\n",
      "\n",
      "ftp ftp.cs.wisc.edu\n",
      "cd math-prog/cpo-dataset/machine-learn/WDBC/\n",
      "\n",
      ".. topic:: References\n",
      "\n",
      "   - W.N. Street, W.H. Wolberg and O.L. Mangasarian. Nuclear feature extraction \n",
      "     for breast tumor diagnosis. IS&T/SPIE 1993 International Symposium on \n",
      "     Electronic Imaging: Science and Technology, volume 1905, pages 861-870,\n",
      "     San Jose, CA, 1993.\n",
      "   - O.L. Mangasarian, W.N. Street and W.H. Wolberg. Breast cancer diagnosis and \n",
      "     prognosis via linear programming. Operations Research, 43(4), pages 570-577, \n",
      "     July-August 1995.\n",
      "   - W.H. Wolberg, W.N. Street, and O.L. Mangasarian. Machine learning techniques\n",
      "     to diagnose breast cancer from fine-needle aspirates. Cancer Letters 77 (1994) \n",
      "     163-171.\n"
     ]
    }
   ],
   "source": [
    "# cancer_data에 breast_cancer 데이터 담아주기\n",
    "cancer_data = load_breast_cancer()\n",
    "# 데이터 설명 확인\n",
    "print(cancer_data.DESCR)"
   ]
  },
  {
   "cell_type": "markdown",
   "metadata": {},
   "source": [
    "# Preprocessing "
   ]
  },
  {
   "cell_type": "code",
   "execution_count": 101,
   "metadata": {
    "scrolled": true
   },
   "outputs": [
    {
     "data": {
      "text/html": [
       "<div>\n",
       "<style scoped>\n",
       "    .dataframe tbody tr th:only-of-type {\n",
       "        vertical-align: middle;\n",
       "    }\n",
       "\n",
       "    .dataframe tbody tr th {\n",
       "        vertical-align: top;\n",
       "    }\n",
       "\n",
       "    .dataframe thead th {\n",
       "        text-align: right;\n",
       "    }\n",
       "</style>\n",
       "<table border=\"1\" class=\"dataframe\">\n",
       "  <thead>\n",
       "    <tr style=\"text-align: right;\">\n",
       "      <th></th>\n",
       "      <th>mean radius</th>\n",
       "      <th>mean texture</th>\n",
       "      <th>mean perimeter</th>\n",
       "      <th>mean area</th>\n",
       "      <th>mean smoothness</th>\n",
       "      <th>mean compactness</th>\n",
       "      <th>mean concavity</th>\n",
       "      <th>mean concave points</th>\n",
       "      <th>mean symmetry</th>\n",
       "      <th>mean fractal dimension</th>\n",
       "      <th>...</th>\n",
       "      <th>worst radius</th>\n",
       "      <th>worst texture</th>\n",
       "      <th>worst perimeter</th>\n",
       "      <th>worst area</th>\n",
       "      <th>worst smoothness</th>\n",
       "      <th>worst compactness</th>\n",
       "      <th>worst concavity</th>\n",
       "      <th>worst concave points</th>\n",
       "      <th>worst symmetry</th>\n",
       "      <th>worst fractal dimension</th>\n",
       "    </tr>\n",
       "  </thead>\n",
       "  <tbody>\n",
       "    <tr>\n",
       "      <th>306</th>\n",
       "      <td>13.20</td>\n",
       "      <td>15.82</td>\n",
       "      <td>84.07</td>\n",
       "      <td>537.3</td>\n",
       "      <td>0.08511</td>\n",
       "      <td>0.05251</td>\n",
       "      <td>0.001461</td>\n",
       "      <td>0.003261</td>\n",
       "      <td>0.1632</td>\n",
       "      <td>0.05894</td>\n",
       "      <td>...</td>\n",
       "      <td>14.41</td>\n",
       "      <td>20.45</td>\n",
       "      <td>92.00</td>\n",
       "      <td>636.9</td>\n",
       "      <td>0.11280</td>\n",
       "      <td>0.1346</td>\n",
       "      <td>0.0112</td>\n",
       "      <td>0.02500</td>\n",
       "      <td>0.2651</td>\n",
       "      <td>0.08385</td>\n",
       "    </tr>\n",
       "    <tr>\n",
       "      <th>410</th>\n",
       "      <td>11.36</td>\n",
       "      <td>17.57</td>\n",
       "      <td>72.49</td>\n",
       "      <td>399.8</td>\n",
       "      <td>0.08858</td>\n",
       "      <td>0.05313</td>\n",
       "      <td>0.027830</td>\n",
       "      <td>0.021000</td>\n",
       "      <td>0.1601</td>\n",
       "      <td>0.05913</td>\n",
       "      <td>...</td>\n",
       "      <td>13.05</td>\n",
       "      <td>36.32</td>\n",
       "      <td>85.07</td>\n",
       "      <td>521.3</td>\n",
       "      <td>0.14530</td>\n",
       "      <td>0.1622</td>\n",
       "      <td>0.1811</td>\n",
       "      <td>0.08698</td>\n",
       "      <td>0.2973</td>\n",
       "      <td>0.07745</td>\n",
       "    </tr>\n",
       "    <tr>\n",
       "      <th>197</th>\n",
       "      <td>18.08</td>\n",
       "      <td>21.84</td>\n",
       "      <td>117.40</td>\n",
       "      <td>1024.0</td>\n",
       "      <td>0.07371</td>\n",
       "      <td>0.08642</td>\n",
       "      <td>0.110300</td>\n",
       "      <td>0.057780</td>\n",
       "      <td>0.1770</td>\n",
       "      <td>0.05340</td>\n",
       "      <td>...</td>\n",
       "      <td>19.76</td>\n",
       "      <td>24.70</td>\n",
       "      <td>129.10</td>\n",
       "      <td>1228.0</td>\n",
       "      <td>0.08822</td>\n",
       "      <td>0.1963</td>\n",
       "      <td>0.2535</td>\n",
       "      <td>0.09181</td>\n",
       "      <td>0.2369</td>\n",
       "      <td>0.06558</td>\n",
       "    </tr>\n",
       "    <tr>\n",
       "      <th>376</th>\n",
       "      <td>10.57</td>\n",
       "      <td>20.22</td>\n",
       "      <td>70.15</td>\n",
       "      <td>338.3</td>\n",
       "      <td>0.09073</td>\n",
       "      <td>0.16600</td>\n",
       "      <td>0.228000</td>\n",
       "      <td>0.059410</td>\n",
       "      <td>0.2188</td>\n",
       "      <td>0.08450</td>\n",
       "      <td>...</td>\n",
       "      <td>10.85</td>\n",
       "      <td>22.82</td>\n",
       "      <td>76.51</td>\n",
       "      <td>351.9</td>\n",
       "      <td>0.11430</td>\n",
       "      <td>0.3619</td>\n",
       "      <td>0.6030</td>\n",
       "      <td>0.14650</td>\n",
       "      <td>0.2597</td>\n",
       "      <td>0.12000</td>\n",
       "    </tr>\n",
       "    <tr>\n",
       "      <th>244</th>\n",
       "      <td>19.40</td>\n",
       "      <td>23.50</td>\n",
       "      <td>129.10</td>\n",
       "      <td>1155.0</td>\n",
       "      <td>0.10270</td>\n",
       "      <td>0.15580</td>\n",
       "      <td>0.204900</td>\n",
       "      <td>0.088860</td>\n",
       "      <td>0.1978</td>\n",
       "      <td>0.06000</td>\n",
       "      <td>...</td>\n",
       "      <td>21.65</td>\n",
       "      <td>30.53</td>\n",
       "      <td>144.90</td>\n",
       "      <td>1417.0</td>\n",
       "      <td>0.14630</td>\n",
       "      <td>0.2968</td>\n",
       "      <td>0.3458</td>\n",
       "      <td>0.15640</td>\n",
       "      <td>0.2920</td>\n",
       "      <td>0.07614</td>\n",
       "    </tr>\n",
       "  </tbody>\n",
       "</table>\n",
       "<p>5 rows × 30 columns</p>\n",
       "</div>"
      ],
      "text/plain": [
       "     mean radius  mean texture  mean perimeter  mean area  mean smoothness  \\\n",
       "306        13.20         15.82           84.07      537.3          0.08511   \n",
       "410        11.36         17.57           72.49      399.8          0.08858   \n",
       "197        18.08         21.84          117.40     1024.0          0.07371   \n",
       "376        10.57         20.22           70.15      338.3          0.09073   \n",
       "244        19.40         23.50          129.10     1155.0          0.10270   \n",
       "\n",
       "     mean compactness  mean concavity  mean concave points  mean symmetry  \\\n",
       "306           0.05251        0.001461             0.003261         0.1632   \n",
       "410           0.05313        0.027830             0.021000         0.1601   \n",
       "197           0.08642        0.110300             0.057780         0.1770   \n",
       "376           0.16600        0.228000             0.059410         0.2188   \n",
       "244           0.15580        0.204900             0.088860         0.1978   \n",
       "\n",
       "     mean fractal dimension  ...  worst radius  worst texture  \\\n",
       "306                 0.05894  ...         14.41          20.45   \n",
       "410                 0.05913  ...         13.05          36.32   \n",
       "197                 0.05340  ...         19.76          24.70   \n",
       "376                 0.08450  ...         10.85          22.82   \n",
       "244                 0.06000  ...         21.65          30.53   \n",
       "\n",
       "     worst perimeter  worst area  worst smoothness  worst compactness  \\\n",
       "306            92.00       636.9           0.11280             0.1346   \n",
       "410            85.07       521.3           0.14530             0.1622   \n",
       "197           129.10      1228.0           0.08822             0.1963   \n",
       "376            76.51       351.9           0.11430             0.3619   \n",
       "244           144.90      1417.0           0.14630             0.2968   \n",
       "\n",
       "     worst concavity  worst concave points  worst symmetry  \\\n",
       "306           0.0112               0.02500          0.2651   \n",
       "410           0.1811               0.08698          0.2973   \n",
       "197           0.2535               0.09181          0.2369   \n",
       "376           0.6030               0.14650          0.2597   \n",
       "244           0.3458               0.15640          0.2920   \n",
       "\n",
       "     worst fractal dimension  \n",
       "306                  0.08385  \n",
       "410                  0.07745  \n",
       "197                  0.06558  \n",
       "376                  0.12000  \n",
       "244                  0.07614  \n",
       "\n",
       "[5 rows x 30 columns]"
      ]
     },
     "execution_count": 101,
     "metadata": {},
     "output_type": "execute_result"
    }
   ],
   "source": [
    "# 속성들은 cancer_data.data에, 악성/양성 데이터는 cancer_data.target에 저장\n",
    "X = pd.DataFrame(cancer_data.data, columns = cancer_data.feature_names)\n",
    "y = pd.DataFrame(cancer_data.target, columns = ['class'])\n",
    "\n",
    "# train / test set 나눠주기\n",
    "X_train, X_test, y_train, y_test = train_test_split(X, y, test_size = 0.2, random_state =5)\n",
    "# 학습 중 경고메시지 나오지 않게 하기\n",
    "y_yrain = y_train.values.ravel()\n",
    "\n",
    "X_train.head()"
   ]
  },
  {
   "cell_type": "markdown",
   "metadata": {},
   "source": [
    "# Check accuracy of breast cancer diagnosis via Classification model"
   ]
  },
  {
   "cell_type": "markdown",
   "metadata": {},
   "source": [
    "## DecisionTree "
   ]
  },
  {
   "cell_type": "code",
   "execution_count": 253,
   "metadata": {},
   "outputs": [
    {
     "name": "stdout",
     "output_type": "stream",
     "text": [
      "DecisionTree accuracy(no_depth):  0.9473684210526315\n"
     ]
    }
   ],
   "source": [
    "tree_clf = DecisionTreeClassifier(random_state=42)\n",
    "tree_clf.fit(X_train, y_train)\n",
    "y_pred_tree = tree_clf.predict(X_test)\n",
    "\n",
    "tree_accuracy = accuracy_score(y_test, y_pred_tree)\n",
    "print('DecisionTree accuracy(no_depth): ',tree_accuracy)"
   ]
  },
  {
   "cell_type": "markdown",
   "metadata": {},
   "source": [
    "###  Bagging"
   ]
  },
  {
   "cell_type": "code",
   "execution_count": 254,
   "metadata": {},
   "outputs": [
    {
     "name": "stdout",
     "output_type": "stream",
     "text": [
      "Bagging accuracy:  0.9649122807017544\n"
     ]
    }
   ],
   "source": [
    "bag_clf = BaggingClassifier(\n",
    "    DecisionTreeClassifier(random_state=42), n_estimators=500,\n",
    "    max_samples=100, bootstrap=True, n_jobs=-1, random_state=42)\n",
    "bag_clf.fit(X_train, y_train)\n",
    "y_pred_bag = bag_clf.predict(X_test)\n",
    "\n",
    "bag_accuracy = accuracy_score(y_test, y_pred_bag)\n",
    "print('Bagging accuracy: ',bag_accuracy)"
   ]
  },
  {
   "cell_type": "markdown",
   "metadata": {},
   "source": [
    "### RandomForest"
   ]
  },
  {
   "cell_type": "code",
   "execution_count": 255,
   "metadata": {},
   "outputs": [
    {
     "name": "stdout",
     "output_type": "stream",
     "text": [
      "Randomforest accuracy:  0.9649122807017544\n"
     ]
    }
   ],
   "source": [
    "rnd_clf = RandomForestClassifier(n_estimators=500, max_leaf_nodes=16, n_jobs=-1, random_state=42)\n",
    "rnd_clf.fit(X_train, y_train)\n",
    "y_pred_rnd = rnd_clf.predict(X_test)\n",
    "\n",
    "rnd_accuracy = accuracy_score(y_test, y_pred_rnd)\n",
    "print('Randomforest accuracy: ',rnd_accuracy)"
   ]
  },
  {
   "cell_type": "markdown",
   "metadata": {},
   "source": [
    "### Adaboost "
   ]
  },
  {
   "cell_type": "code",
   "execution_count": 256,
   "metadata": {},
   "outputs": [
    {
     "name": "stdout",
     "output_type": "stream",
     "text": [
      "Adaboost accuracy:  0.9736842105263158\n"
     ]
    }
   ],
   "source": [
    "ada_clf = AdaBoostClassifier(\n",
    "    DecisionTreeClassifier(max_depth=1), n_estimators=200,\n",
    "    algorithm=\"SAMME.R\", learning_rate=0.5, random_state=42)\n",
    "ada_clf.fit(X_train, y_train)\n",
    "y_pred_ada = ada_clf.predict(X_test)\n",
    "\n",
    "ada_accuracy = accuracy_score(y_test, y_pred_ada)\n",
    "print('Adaboost accuracy: ',ada_accuracy)"
   ]
  },
  {
   "cell_type": "markdown",
   "metadata": {},
   "source": [
    "### DecisionTree + GridsearchCV"
   ]
  },
  {
   "cell_type": "code",
   "execution_count": 296,
   "metadata": {},
   "outputs": [
    {
     "name": "stdout",
     "output_type": "stream",
     "text": [
      "DecisionTree GridSearch CV accuracy:  0.956140350877193\n"
     ]
    }
   ],
   "source": [
    "params = {'max_depth' : [1, 2, 3, 4, 5, 6, 7, 8, 9, 10, 20, 30]}\n",
    "\n",
    "tree_grid = GridSearchCV(tree_clf, param_grid=params, scoring='accuracy', cv=5)\n",
    "tree_grid.fit(X_train, y_train)\n",
    "y_pred_tree_grid = tree_grid.predict(X_test)\n",
    "tree_grid_accuracy = accuracy_score(y_test, y_pred_tree_grid)\n",
    "\n",
    "print('DecisionTree GridSearch CV accuracy: ',tree_grid_accuracy)"
   ]
  },
  {
   "cell_type": "markdown",
   "metadata": {},
   "source": [
    " "
   ]
  },
  {
   "cell_type": "markdown",
   "metadata": {},
   "source": [
    "## SVM "
   ]
  },
  {
   "cell_type": "code",
   "execution_count": 258,
   "metadata": {},
   "outputs": [
    {
     "name": "stdout",
     "output_type": "stream",
     "text": [
      "SVM accuracy:  0.9035087719298246\n"
     ]
    }
   ],
   "source": [
    "svm_clf = svm.SVC(C=0.1,gamma='scale')\n",
    "svm_clf.fit(X_train,y_train)\n",
    "y_pred_svm = svm_clf.predict(X_test)\n",
    "svm_accuracy = accuracy_score(y_test, y_pred_svm)\n",
    "print('SVM accuracy: ',svm_accuracy)"
   ]
  },
  {
   "cell_type": "markdown",
   "metadata": {},
   "source": [
    "### SVM + K-fold CV"
   ]
  },
  {
   "cell_type": "code",
   "execution_count": 259,
   "metadata": {},
   "outputs": [
    {
     "name": "stdout",
     "output_type": "stream",
     "text": [
      "SVM K-fold CV accuracy:  0.8857142857142858\n"
     ]
    }
   ],
   "source": [
    "kfold = KFold(n_splits=5, shuffle=True,random_state=42)\n",
    "svm_kfold2 = cross_val_score(svm_clf, X_train, y_train, cv= kfold, scoring='accuracy')\n",
    "\n",
    "print('SVM K-fold CV accuracy: ', sum(svm_kfold)/5)"
   ]
  },
  {
   "cell_type": "markdown",
   "metadata": {},
   "source": [
    "### SVM + StratifiedShuffle CV"
   ]
  },
  {
   "cell_type": "code",
   "execution_count": 260,
   "metadata": {},
   "outputs": [
    {
     "name": "stdout",
     "output_type": "stream",
     "text": [
      "SVM StratifiedShuffleSplit CV accuracy:  0.8715328467153285\n"
     ]
    }
   ],
   "source": [
    "stratified_shuffle_split = StratifiedShuffleSplit(train_size=0.7, test_size=0.3, n_splits=5, random_state=42)\n",
    "svm_str = cross_val_score(svm_clf, X_train, y_train, cv= stratified_shuffle_split, scoring='accuracy')\n",
    "\n",
    "print('SVM StratifiedShuffleSplit CV accuracy: ', sum(svm_str)/5)"
   ]
  },
  {
   "cell_type": "markdown",
   "metadata": {},
   "source": [
    "### SVM + GridSearchCV"
   ]
  },
  {
   "cell_type": "code",
   "execution_count": 292,
   "metadata": {},
   "outputs": [
    {
     "name": "stdout",
     "output_type": "stream",
     "text": [
      "SVM GridSearch CV accuracy:  0.9473684210526315\n"
     ]
    }
   ],
   "source": [
    "param_grid={'C':[1,10,100,0.1,0.01],'gamma':[1,10,0.1,0.01,0.001,0.0001]}\n",
    "svm_grid=GridSearchCV(svm_clf,param_grid, cv=5)\n",
    "svm_grid.fit(X_train, y_train)\n",
    "y_pred_svm_grid = svm_grid.predict(X_test)\n",
    "svm_grid_accuracy = accuracy_score(y_test, y_pred_svm_grid)\n",
    "\n",
    "print('SVM GridSearch CV accuracy: ', svm_grid_accuracy)"
   ]
  },
  {
   "cell_type": "markdown",
   "metadata": {},
   "source": [
    " "
   ]
  },
  {
   "cell_type": "markdown",
   "metadata": {},
   "source": [
    "## LogisticRegression"
   ]
  },
  {
   "cell_type": "code",
   "execution_count": 251,
   "metadata": {
    "scrolled": true
   },
   "outputs": [
    {
     "name": "stdout",
     "output_type": "stream",
     "text": [
      "LogisticRegression accuracy:  0.956140350877193\n"
     ]
    }
   ],
   "source": [
    "lrn_clf = LogisticRegression()\n",
    "lrn_clf.fit(X_train, y_train)\n",
    "y_pred_lrn = lrn_clf.predict(X_test)\n",
    "\n",
    "lrn_accuracy = accuracy_score(y_test, y_pred_lrn)\n",
    "print('LogisticRegression accuracy: ', lrn_accuracy)"
   ]
  },
  {
   "cell_type": "markdown",
   "metadata": {},
   "source": [
    "### LogisticRegression + K-fold CV"
   ]
  },
  {
   "cell_type": "code",
   "execution_count": 250,
   "metadata": {
    "scrolled": true
   },
   "outputs": [
    {
     "name": "stdout",
     "output_type": "stream",
     "text": [
      "LogisticRegression K-fold CV accuracy:  0.9428571428571428\n"
     ]
    }
   ],
   "source": [
    "kfold = KFold(n_splits=5, shuffle=True,random_state=42)\n",
    "lrn_kfold = cross_val_score(lrn_clf, X_train, y_train, cv= kfold, scoring='accuracy')\n",
    "\n",
    "print('LogisticRegression K-fold CV accuracy: ', sum(lrn_kfold)/5)"
   ]
  },
  {
   "cell_type": "markdown",
   "metadata": {},
   "source": [
    "### LogisticRegression + StratifiedShuffle CV"
   ]
  },
  {
   "cell_type": "code",
   "execution_count": 249,
   "metadata": {},
   "outputs": [
    {
     "name": "stdout",
     "output_type": "stream",
     "text": [
      "LogisticRegression StratifiedShuffleSplit CV accuracy:  0.9518248175182482\n"
     ]
    }
   ],
   "source": [
    "stratified_shuffle_split = StratifiedShuffleSplit(train_size=0.7, test_size=0.3, n_splits=5, random_state=42)\n",
    "lrn_str = cross_val_score(lrn_clf, X_train, y_train, cv= stratified_shuffle_split, scoring='accuracy')\n",
    "\n",
    "print('LogisticRegression StratifiedShuffleSplit CV accuracy: ', sum(lrn_str)/5)"
   ]
  },
  {
   "cell_type": "markdown",
   "metadata": {},
   "source": [
    "### LogisticRegression + GridSearchCV"
   ]
  },
  {
   "cell_type": "code",
   "execution_count": 248,
   "metadata": {
    "scrolled": true
   },
   "outputs": [
    {
     "name": "stdout",
     "output_type": "stream",
     "text": [
      "LogisticRegression GridSearch CV accuracy:  0.9649122807017544\n"
     ]
    }
   ],
   "source": [
    "param_grid={'C':np.logspace(-3,3,7), 'penalty':['l1','l2']}\n",
    "\n",
    "lrn_grid=GridSearchCV(LogisticRegression(), param_grid=param_grid,scoring='accuracy',cv=5)\n",
    "lrn_grid.fit(X_train,y_train)\n",
    "y_pred_lrn_grid =lrn_grid.predict(X_test)\n",
    "lrn_grid_accuracy = accuracy_score(y_test, y_pred_lrn_grid)\n",
    "\n",
    "print('LogisticRegression GridSearch CV accuracy: ', lrn_grid_accuracy)"
   ]
  },
  {
   "cell_type": "markdown",
   "metadata": {},
   "source": [
    " "
   ]
  },
  {
   "cell_type": "markdown",
   "metadata": {},
   "source": [
    "## KNN"
   ]
  },
  {
   "cell_type": "code",
   "execution_count": 247,
   "metadata": {
    "scrolled": true
   },
   "outputs": [
    {
     "name": "stdout",
     "output_type": "stream",
     "text": [
      "KNN accuracy:  0.9385964912280702\n"
     ]
    }
   ],
   "source": [
    "knn_clf = KNeighborsClassifier(weights='distance')\n",
    "knn_clf.fit(X_train, y_train)\n",
    "y_pred_knn = knn_clf.predict(X_test)\n",
    "\n",
    "knn_accuracy = accuracy_score(y_test, y_pred_knn)\n",
    "print('KNN accuracy: ', knn_accuracy)"
   ]
  },
  {
   "cell_type": "markdown",
   "metadata": {},
   "source": [
    "### KNN+ K-fold CV"
   ]
  },
  {
   "cell_type": "code",
   "execution_count": 246,
   "metadata": {},
   "outputs": [
    {
     "name": "stdout",
     "output_type": "stream",
     "text": [
      "KNN K-fold CV accuracy:  0.9252747252747253\n"
     ]
    }
   ],
   "source": [
    "kfold = KFold(n_splits=5, shuffle=True,random_state=42)\n",
    "knn_kfold = cross_val_score(knn_clf, X_train, y_train, cv= kfold, scoring='accuracy')\n",
    "\n",
    "print('KNN K-fold CV accuracy: ', sum(knn_kfold)/5)"
   ]
  },
  {
   "cell_type": "markdown",
   "metadata": {},
   "source": [
    "### KNN+ StratifiedShuffle CV"
   ]
  },
  {
   "cell_type": "code",
   "execution_count": 245,
   "metadata": {},
   "outputs": [
    {
     "name": "stdout",
     "output_type": "stream",
     "text": [
      "KNN StratifiedShuffleSplit CV accuracy:  0.927007299270073\n"
     ]
    }
   ],
   "source": [
    "stratified_shuffle_split = StratifiedShuffleSplit(train_size=0.7, test_size=0.3, n_splits=5, random_state=42)\n",
    "knn_str = cross_val_score(knn_clf, X_train, y_train, cv= stratified_shuffle_split, scoring='accuracy')\n",
    "\n",
    "print('KNN StratifiedShuffleSplit CV accuracy: ', sum(knn_str)/5)"
   ]
  },
  {
   "cell_type": "markdown",
   "metadata": {},
   "source": [
    "### KNN+ GridSearchCV"
   ]
  },
  {
   "cell_type": "code",
   "execution_count": 244,
   "metadata": {},
   "outputs": [
    {
     "name": "stdout",
     "output_type": "stream",
     "text": [
      "LogisticRegression GridSearch CV accuracy:  0.9649122807017544\n"
     ]
    }
   ],
   "source": [
    "param_grid = {'n_neighbors':(1, 3, 10), 'weights':('uniform', 'distance')}\n",
    "\n",
    "knn_grid=GridSearchCV(KNeighborsClassifier(), param_grid=param_grid,scoring='accuracy',cv=5)\n",
    "knn_grid.fit(X_train,y_train)\n",
    "y_pred_knn_grid =lrn_grid.predict(X_test)\n",
    "lrn_grid_accuracy = accuracy_score(y_test, y_pred_lrn_grid)\n",
    "\n",
    "print('LogisticRegression GridSearch CV accuracy: ', lrn_grid_accuracy)"
   ]
  },
  {
   "cell_type": "markdown",
   "metadata": {},
   "source": [
    " "
   ]
  },
  {
   "cell_type": "markdown",
   "metadata": {},
   "source": [
    "## MLP"
   ]
  },
  {
   "cell_type": "code",
   "execution_count": 267,
   "metadata": {},
   "outputs": [
    {
     "name": "stdout",
     "output_type": "stream",
     "text": [
      "MLP accuracy:  0.9035087719298246\n"
     ]
    }
   ],
   "source": [
    "mlp_clf = MLPClassifier(random_state= 42)\n",
    "mlp_clf.fit(X_train, y_train)\n",
    "y_pred_mlp = mlp_clf.predict(X_test)\n",
    "\n",
    "mlp_accuracy = accuracy_score(y_test, y_pred_mlp)\n",
    "print('MLP accuracy: ', mlp_accuracy)"
   ]
  },
  {
   "cell_type": "markdown",
   "metadata": {},
   "source": [
    "### MLP with more layers (layers=1000)"
   ]
  },
  {
   "cell_type": "code",
   "execution_count": 262,
   "metadata": {
    "scrolled": true
   },
   "outputs": [
    {
     "name": "stdout",
     "output_type": "stream",
     "text": [
      "MLP accuracy:  0.9473684210526315\n"
     ]
    }
   ],
   "source": [
    "mlp1000_clf = MLPClassifier(max_iter=1000,random_state= 0)\n",
    "mlp1000_clf.fit(X_train, y_train)\n",
    "y_pred_mlp1000 = mlp1000_clf.predict(X_test)\n",
    "\n",
    "mlp1000_accuracy = accuracy_score(y_test, y_pred_mlp1000)\n",
    "print('MLP accuracy: ', mlp1000_accuracy)"
   ]
  },
  {
   "cell_type": "markdown",
   "metadata": {},
   "source": [
    " "
   ]
  },
  {
   "cell_type": "markdown",
   "metadata": {},
   "source": [
    "## Normalization"
   ]
  },
  {
   "cell_type": "code",
   "execution_count": 276,
   "metadata": {},
   "outputs": [],
   "source": [
    "#정규분포 분포 만들기\n",
    "X_mean = X_train.mean(axis=0)\n",
    "X_std = X_train.std(axis=0)\n",
    "X_train_norm = (X_train - X_mean) / X_std\n",
    "X_test_norm = (X_test - X_mean) / X_std"
   ]
  },
  {
   "cell_type": "markdown",
   "metadata": {},
   "source": [
    "### Models with no CV Normalization"
   ]
  },
  {
   "cell_type": "code",
   "execution_count": 303,
   "metadata": {},
   "outputs": [
    {
     "name": "stdout",
     "output_type": "stream",
     "text": [
      "DecisionTree Norm accuracy: 0.9473684210526315\n",
      "RandomForest Norm accuracy: 0.9649122807017544\n",
      "Bagging Norm accuracy: 0.9649122807017544\n",
      "AdaBoost Norm accuracy: 0.9736842105263158\n",
      "SVM Norm accuracy: 0.9649122807017544\n",
      "LogisticRegression Norm accuracy: 0.9736842105263158\n",
      "KNN Norm accuracy: 0.9649122807017544\n",
      "MLP Norm accuracy: 0.9824561403508771\n",
      "MLP_1000 Norm accuracy: 0.9824561403508771\n"
     ]
    }
   ],
   "source": [
    "models = {    \n",
    "    'DecisionTree': DecisionTreeClassifier(random_state=42),\n",
    "    'RandomForest': RandomForestClassifier(n_estimators=500, max_leaf_nodes=16, n_jobs=-1, random_state=42),\n",
    "    'Bagging': BaggingClassifier(DecisionTreeClassifier(random_state=42), n_estimators=500,\n",
    "                                           max_samples=100, bootstrap=True, n_jobs=-1, random_state=42),\n",
    "    'AdaBoost': AdaBoostClassifier(DecisionTreeClassifier(max_depth=1), n_estimators=200, algorithm=\"SAMME.R\", \n",
    "                                             learning_rate=0.5, random_state=42),\n",
    "    'SVM': svm.SVC(gamma='scale'),\n",
    "    'LogisticRegression': LogisticRegression(solver='lbfgs', max_iter=2000),\n",
    "    'KNN': KNeighborsClassifier(weights='distance'),\n",
    "    'MLP':MLPClassifier(random_state= 42),\n",
    "    'MLP_1000':MLPClassifier(max_iter=1000,random_state= 0)\n",
    "    }\n",
    "\n",
    "for name, model in models.items():\n",
    "    scores = model.fit(X_train_norm, y_train)\n",
    "    y_pred_model = model.predict(X_test_norm)\n",
    "    print(name,'Norm accuracy:', accuracy_score(y_test, y_pred_model))"
   ]
  },
  {
   "cell_type": "markdown",
   "metadata": {},
   "source": [
    "### Models with K-fold CV Normalization"
   ]
  },
  {
   "cell_type": "code",
   "execution_count": 300,
   "metadata": {},
   "outputs": [
    {
     "name": "stdout",
     "output_type": "stream",
     "text": [
      "SVM kfold CV Norm accuracy :  0.9384615384615383\n",
      "LogisticRegression kfold CV Norm accuracy :  0.9758241758241757\n",
      "KNN kfold CV Norm accuracy :  0.9736263736263737\n"
     ]
    }
   ],
   "source": [
    "kfold = KFold(n_splits=5, shuffle=True,random_state=42)\n",
    "\n",
    "svm_kfold_norm = cross_val_score(svm_clf, X_train_norm, y_train, cv= kfold, scoring='accuracy')\n",
    "knn_kfold_norm = cross_val_score(knn_clf, X_train_norm, y_train, cv= kfold, scoring='accuracy')\n",
    "lrn_kfold_norm = cross_val_score(lrn_clf, X_train_norm, y_train, cv= kfold, scoring='accuracy')\n",
    "\n",
    "print('SVM kfold CV Norm accuracy : ', sum(svm_kfold_norm)/5)\n",
    "print('LogisticRegression kfold CV Norm accuracy : ', sum(lrn_kfold_norm)/5)\n",
    "print('KNN kfold CV Norm accuracy : ', sum(knn_kfold_norm)/5)"
   ]
  },
  {
   "cell_type": "markdown",
   "metadata": {},
   "source": [
    "### Models with StratifiedShuffle CV Normalization"
   ]
  },
  {
   "cell_type": "code",
   "execution_count": 301,
   "metadata": {},
   "outputs": [
    {
     "name": "stdout",
     "output_type": "stream",
     "text": [
      "SVM StratifiedShuffle CV Norm accuracy :  0.9372262773722626\n",
      "LogisticRegression StratifiedShuffle CV Norm accuracy :  0.983941605839416\n",
      "KNN StratifiedShuffle CV Norm accuracy :  0.9737226277372264\n"
     ]
    }
   ],
   "source": [
    "stratified_shuffle_split = StratifiedShuffleSplit(train_size=0.7, test_size=0.3, n_splits=5, random_state=42)\n",
    "\n",
    "svm_str_norm = cross_val_score(svm_clf, X_train_norm, y_train, cv= stratified_shuffle_split, scoring='accuracy')\n",
    "lrn_str_norm = cross_val_score(lrn_clf, X_train_norm, y_train, cv= stratified_shuffle_split, scoring='accuracy')\n",
    "knn_str_norm = cross_val_score(knn_clf, X_train_norm, y_train, cv= stratified_shuffle_split, scoring='accuracy')\n",
    "\n",
    "print('SVM StratifiedShuffle CV Norm accuracy : ', sum(svm_str_norm)/5)\n",
    "print('LogisticRegression StratifiedShuffle CV Norm accuracy : ', sum(lrn_str_norm)/5)\n",
    "print('KNN StratifiedShuffle CV Norm accuracy : ', sum(knn_str_norm)/5)"
   ]
  },
  {
   "cell_type": "markdown",
   "metadata": {},
   "source": [
    "### Models with GridSearch CV Normalization"
   ]
  },
  {
   "cell_type": "code",
   "execution_count": 302,
   "metadata": {},
   "outputs": [
    {
     "name": "stdout",
     "output_type": "stream",
     "text": [
      "Tree GridSearch CV Norm accuracy : 0.956140350877193\n",
      "SVM GridSearch CV Norm accuracy : 0.9649122807017544\n",
      "LogisticRegression GridSearch CV Norm accuracy : 0.9736842105263158\n",
      "KNN GridSearch CV Norm accuracy : 0.9649122807017544\n"
     ]
    }
   ],
   "source": [
    "tree_param = {'max_depth' : [1, 2, 3, 4, 5, 6, 7, 8, 9, 10, 20, 30]}\n",
    "tree_grid_norm = GridSearchCV(tree_clf, param_grid=tree_param, scoring='accuracy', cv=5)\n",
    "tree_grid_norm.fit(X_train_norm, y_train)\n",
    "y_pred_tree_grid_norm= tree_grid_norm.predict(X_test_norm)\n",
    "print('Tree GridSearch CV Norm accuracy :', accuracy_score(y_test, y_pred_tree_grid_norm))\n",
    "\n",
    "svm_param={'C':[1,10,100,0.1,0.01],'gamma':[1,10,0.1,0.01,0.001,0.0001]}\n",
    "svm_grid_norm=GridSearchCV(svm_clf,svm_param, cv=5)\n",
    "svm_grid_norm.fit(X_train_norm, y_train)\n",
    "y_pred_svm_grid_norm = svm_grid_norm.predict(X_test_norm)\n",
    "print('SVM GridSearch CV Norm accuracy :', accuracy_score(y_test, y_pred_svm_grid_norm))\n",
    "\n",
    "lrn_param={'C':np.logspace(-3,3,7), 'penalty':['l1','l2']}\n",
    "lrn_grid_norm=GridSearchCV(LogisticRegression(), lrn_param,scoring='accuracy',cv=5)\n",
    "lrn_grid_norm.fit(X_train_norm,y_train)\n",
    "y_pred_lrn_grid_norm =lrn_grid_norm.predict(X_test_norm)\n",
    "print('LogisticRegression GridSearch CV Norm accuracy :', accuracy_score(y_test, y_pred_lrn_grid_norm))\n",
    "\n",
    "knn_param = {'n_neighbors':(1, 3, 10), 'weights':('uniform', 'distance')}\n",
    "knn_grid_norm=GridSearchCV(KNeighborsClassifier(), knn_param,scoring='accuracy',cv=5)\n",
    "knn_grid_norm.fit(X_train_norm,y_train)\n",
    "y_pred_knn_grid_norm =knn_grid_norm.predict(X_test_norm)\n",
    "print('KNN GridSearch CV Norm accuracy :', accuracy_score(y_test, y_pred_knn_grid_norm))"
   ]
  }
 ],
 "metadata": {
  "kernelspec": {
   "display_name": "Python 3",
   "language": "python",
   "name": "python3"
  },
  "language_info": {
   "codemirror_mode": {
    "name": "ipython",
    "version": 3
   },
   "file_extension": ".py",
   "mimetype": "text/x-python",
   "name": "python",
   "nbconvert_exporter": "python",
   "pygments_lexer": "ipython3",
   "version": "3.7.6"
  }
 },
 "nbformat": 4,
 "nbformat_minor": 4
}
